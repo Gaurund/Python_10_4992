{
  "nbformat": 4,
  "nbformat_minor": 0,
  "metadata": {
    "colab": {
      "provenance": []
    },
    "kernelspec": {
      "name": "python3",
      "display_name": "Python 3"
    },
    "language_info": {
      "name": "python"
    }
  },
  "cells": [
    {
      "cell_type": "markdown",
      "source": [
        "**Задача 40**: Работать с файлом *california_housing_train.csv*, который находится в папке\n",
        "*sample_data*. Определить **среднюю** стоимость дома, где кол-во людей **от 0 до 500 (population)**"
      ],
      "metadata": {
        "id": "tT4P6Yy5YbP3"
      }
    },
    {
      "cell_type": "code",
      "source": [
        "import pandas as pd\n",
        "\n",
        "\n",
        "df = pd.read_csv('sample_data/california_housing_train.csv')\n",
        "df[df['population']<500]['median_house_value'].mean()\n"
      ],
      "metadata": {
        "colab": {
          "base_uri": "https://localhost:8080/"
        },
        "id": "S3BZB8NrVLU2",
        "outputId": "49aaf8ee-01dc-4883-8747-645be81e8cbe"
      },
      "execution_count": 57,
      "outputs": [
        {
          "output_type": "execute_result",
          "data": {
            "text/plain": [
              "206683.83635227982"
            ]
          },
          "metadata": {},
          "execution_count": 57
        }
      ]
    },
    {
      "cell_type": "markdown",
      "source": [
        "**Задача 42**: Узнать какая максимальная **households** в зоне минимального значения **population**"
      ],
      "metadata": {
        "id": "4uZ0u9V9apxA"
      }
    },
    {
      "cell_type": "code",
      "source": [
        "df[df['population']==df['population'].min()]['households'].max()"
      ],
      "metadata": {
        "colab": {
          "base_uri": "https://localhost:8080/"
        },
        "id": "XNBQruT6bGBv",
        "outputId": "0c6f045f-e237-43ea-ba8a-c625423ae6e9"
      },
      "execution_count": 59,
      "outputs": [
        {
          "output_type": "execute_result",
          "data": {
            "text/plain": [
              "4.0"
            ]
          },
          "metadata": {},
          "execution_count": 59
        }
      ]
    }
  ]
}